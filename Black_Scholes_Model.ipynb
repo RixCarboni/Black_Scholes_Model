{
 "cells": [
  {
   "cell_type": "code",
   "execution_count": 1,
   "metadata": {},
   "outputs": [],
   "source": [
    "#No dividend Black and Scholes Model"
   ]
  },
  {
   "cell_type": "code",
   "execution_count": 2,
   "metadata": {},
   "outputs": [],
   "source": [
    "#packs\n",
    "import numpy as np\n",
    "import sympy as sy\n",
    "import scipy.stats as si"
   ]
  },
  {
   "cell_type": "code",
   "execution_count": 30,
   "metadata": {},
   "outputs": [],
   "source": [
    "###function\n",
    "\n",
    "##parameters\n",
    "\n",
    "#spot: spot price\n",
    "#time: time to maturity\n",
    "#strike\n",
    "#i: risk free interest rate\n",
    "#sigma: volatility\n",
    "\n",
    "def options_price(spot, strike, time, i, sigma, option):\n",
    "    \n",
    "    v1 = (np.log(spot / strike) + (i + 0.5 * sigma ** 2) * time) / (sigma * np.sqrt(time))\n",
    "    v2 = (np.log(spot / strike) + (i - 0.5 * sigma ** 2) * time) / (sigma * np.sqrt(time))\n",
    "    \n",
    "    if option == 'call':\n",
    "        value = (spot * si.norm.cdf(v1, 0.0, 1.0) - strike * np.exp(-i * time) * si.norm.cdf(v2, 0.0, 1.0))\n",
    "    if option == 'put':\n",
    "        value = (strike * np.exp(-i * time) * si.norm.cdf(-v2, 0.0, 1.0) - spot * si.norm.cdf(-v1, 0.0, 1.0))\n",
    "    else:\n",
    "        print('Choose a valid parameter')\n",
    "    \n",
    "    return value"
   ]
  },
  {
   "cell_type": "code",
   "execution_count": 62,
   "metadata": {},
   "outputs": [],
   "source": [
    "#your try - BOVAL90\n",
    "\n",
    "import datetime as dt\n",
    "\n",
    "price = 81.64\n",
    "\n",
    "strike_p = 90\n",
    "\n",
    "first_day = dt.date(2018, 11, 13)\n",
    "last_day = dt.date(2018, 12, 17)\n",
    "period = (np.busday_count(first_day, last_day))/252\n",
    "\n",
    "risk_free = 0.065\n",
    "\n",
    "volatility = 0.27"
   ]
  },
  {
   "cell_type": "code",
   "execution_count": 63,
   "metadata": {},
   "outputs": [
    {
     "name": "stdout",
     "output_type": "stream",
     "text": [
      "Choose a valid parameter\n",
      "0.4924563451475077\n"
     ]
    }
   ],
   "source": [
    "#result\n",
    "\n",
    "result = options_price(spot = price, strike = strike_p, time = period, i = risk_free, sigma = volatility, option = 'call')\n",
    "print(result)"
   ]
  }
 ],
 "metadata": {
  "kernelspec": {
   "display_name": "Python 3",
   "language": "python",
   "name": "python3"
  },
  "language_info": {
   "codemirror_mode": {
    "name": "ipython",
    "version": 3
   },
   "file_extension": ".py",
   "mimetype": "text/x-python",
   "name": "python",
   "nbconvert_exporter": "python",
   "pygments_lexer": "ipython3",
   "version": "3.7.0"
  }
 },
 "nbformat": 4,
 "nbformat_minor": 2
}
